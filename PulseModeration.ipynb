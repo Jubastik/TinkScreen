{
  "nbformat": 4,
  "nbformat_minor": 0,
  "metadata": {
    "colab": {
      "provenance": []
    },
    "kernelspec": {
      "name": "python3",
      "display_name": "Python 3"
    },
    "language_info": {
      "name": "python"
    }
  },
  "cells": [
    {
      "cell_type": "markdown",
      "source": [
        "# Imports"
      ],
      "metadata": {
        "id": "j_En8v2kze2l"
      }
    },
    {
      "cell_type": "code",
      "execution_count": 6,
      "metadata": {
        "id": "ijZ3IqD2sSR0"
      },
      "outputs": [],
      "source": [
        "from google.colab import drive\n",
        "from pathlib import Path\n",
        "import pandas as pd"
      ]
    },
    {
      "cell_type": "code",
      "source": [
        "drive.mount(\"/content/drive\")"
      ],
      "metadata": {
        "colab": {
          "base_uri": "https://localhost:8080/"
        },
        "id": "f-tY5wI_sZmw",
        "outputId": "c3872e7e-0bbb-4d51-c090-6324e8ca5c5e"
      },
      "execution_count": 7,
      "outputs": [
        {
          "output_type": "stream",
          "name": "stdout",
          "text": [
            "Mounted at /content/drive\n"
          ]
        }
      ]
    },
    {
      "cell_type": "code",
      "source": [
        "data_path = Path('/content/drive/MyDrive/pulse_moderation')"
      ],
      "metadata": {
        "id": "FR5ksOkpscVd"
      },
      "execution_count": 8,
      "outputs": []
    },
    {
      "cell_type": "code",
      "source": [
        "df = pd.read_csv(data_path / \"data.csv\")"
      ],
      "metadata": {
        "id": "Ck4GXjtxstH8"
      },
      "execution_count": 9,
      "outputs": []
    },
    {
      "cell_type": "markdown",
      "source": [
        "# Features"
      ],
      "metadata": {
        "id": "lskDzu_01YHg"
      }
    },
    {
      "cell_type": "code",
      "source": [
        "def get_label(c1, c2, c3, c4, ret_index=False):\n",
        "    if c1:\n",
        "        return \"manipulation\" if not ret_index else 0\n",
        "    if c2:\n",
        "        return \"profanity\" if not ret_index else 1\n",
        "    if c3:\n",
        "        return \"advertisement\" if not ret_index else 2\n",
        "    if c4:\n",
        "        return \"begging\" if not ret_index else 3\n",
        "    return \"normal\" if not ret_index else 4"
      ],
      "metadata": {
        "id": "U_AWf7-5g1Bu"
      },
      "execution_count": null,
      "outputs": []
    },
    {
      "cell_type": "code",
      "source": [
        "from collections import Counter\n",
        "\n",
        "\n",
        "def create_counter(df):\n",
        "    tokenizer = RegexpTokenizer(r'\\w+')\n",
        "    texts = []\n",
        "    for line in df.post_txt:\n",
        "        texts += [w for w in tokenizer.tokenize(line.lower()) if w not in stop_words]\n",
        "    return Counter(texts)"
      ],
      "metadata": {
        "id": "7OZxW9F--ded"
      },
      "execution_count": null,
      "outputs": []
    },
    {
      "cell_type": "markdown",
      "source": [
        "# Data analysis"
      ],
      "metadata": {
        "id": "T7gF6gpqzjP0"
      }
    },
    {
      "cell_type": "code",
      "source": [
        "df.head(10)"
      ],
      "metadata": {
        "colab": {
          "base_uri": "https://localhost:8080/",
          "height": 363
        },
        "id": "wjKBnFfdtAqe",
        "outputId": "11ac10de-f24f-4ff5-aca2-a2e81b31f0bf"
      },
      "execution_count": null,
      "outputs": [
        {
          "output_type": "execute_result",
          "data": {
            "text/plain": [
              "                                            post_txt  is_manipulation  \\\n",
              "0              {$NGG3} невдумацте покупать и шортить                1   \n",
              "1  {$NGF3} Вспомнил анекдот про лонги...\\nВесь пи...                0   \n",
              "2  {$POSI} #идея_на_миллион Покупаем , ждём рост ...                1   \n",
              "3  {$UWGN} биржа начинает подниматься ! Кто не ус...                1   \n",
              "4  ??ПОКА ВЫ ПАНИКУЕТЕ, МЫ ЗАРАБАТЫВАЕМ?????\\n\\n?...                0   \n",
              "5  {$FLOT}\\nЭкстренно \\nДивиденды могут отменить....                1   \n",
              "6  {$KZOS} может организуем какую - то сексту и в...                1   \n",
              "7                {$KZOSP} держимся до 40, не сливаем                1   \n",
              "8  {$TSLA} Аналитики прогнозируют 220-250$ к конц...                0   \n",
              "9                 {$UNKL}  не продаем! держим строй!                1   \n",
              "\n",
              "   is_profanity  is_advertisement  is_begging  \n",
              "0             0                 0           0  \n",
              "1             1                 0           0  \n",
              "2             0                 0           0  \n",
              "3             0                 0           0  \n",
              "4             0                 1           0  \n",
              "5             0                 0           0  \n",
              "6             0                 0           0  \n",
              "7             0                 0           0  \n",
              "8             1                 0           0  \n",
              "9             0                 0           0  "
            ],
            "text/html": [
              "\n",
              "  <div id=\"df-89b82789-c9f9-438d-a211-79579595a471\">\n",
              "    <div class=\"colab-df-container\">\n",
              "      <div>\n",
              "<style scoped>\n",
              "    .dataframe tbody tr th:only-of-type {\n",
              "        vertical-align: middle;\n",
              "    }\n",
              "\n",
              "    .dataframe tbody tr th {\n",
              "        vertical-align: top;\n",
              "    }\n",
              "\n",
              "    .dataframe thead th {\n",
              "        text-align: right;\n",
              "    }\n",
              "</style>\n",
              "<table border=\"1\" class=\"dataframe\">\n",
              "  <thead>\n",
              "    <tr style=\"text-align: right;\">\n",
              "      <th></th>\n",
              "      <th>post_txt</th>\n",
              "      <th>is_manipulation</th>\n",
              "      <th>is_profanity</th>\n",
              "      <th>is_advertisement</th>\n",
              "      <th>is_begging</th>\n",
              "    </tr>\n",
              "  </thead>\n",
              "  <tbody>\n",
              "    <tr>\n",
              "      <th>0</th>\n",
              "      <td>{$NGG3} невдумацте покупать и шортить</td>\n",
              "      <td>1</td>\n",
              "      <td>0</td>\n",
              "      <td>0</td>\n",
              "      <td>0</td>\n",
              "    </tr>\n",
              "    <tr>\n",
              "      <th>1</th>\n",
              "      <td>{$NGF3} Вспомнил анекдот про лонги...\\nВесь пи...</td>\n",
              "      <td>0</td>\n",
              "      <td>1</td>\n",
              "      <td>0</td>\n",
              "      <td>0</td>\n",
              "    </tr>\n",
              "    <tr>\n",
              "      <th>2</th>\n",
              "      <td>{$POSI} #идея_на_миллион Покупаем , ждём рост ...</td>\n",
              "      <td>1</td>\n",
              "      <td>0</td>\n",
              "      <td>0</td>\n",
              "      <td>0</td>\n",
              "    </tr>\n",
              "    <tr>\n",
              "      <th>3</th>\n",
              "      <td>{$UWGN} биржа начинает подниматься ! Кто не ус...</td>\n",
              "      <td>1</td>\n",
              "      <td>0</td>\n",
              "      <td>0</td>\n",
              "      <td>0</td>\n",
              "    </tr>\n",
              "    <tr>\n",
              "      <th>4</th>\n",
              "      <td>??ПОКА ВЫ ПАНИКУЕТЕ, МЫ ЗАРАБАТЫВАЕМ?????\\n\\n?...</td>\n",
              "      <td>0</td>\n",
              "      <td>0</td>\n",
              "      <td>1</td>\n",
              "      <td>0</td>\n",
              "    </tr>\n",
              "    <tr>\n",
              "      <th>5</th>\n",
              "      <td>{$FLOT}\\nЭкстренно \\nДивиденды могут отменить....</td>\n",
              "      <td>1</td>\n",
              "      <td>0</td>\n",
              "      <td>0</td>\n",
              "      <td>0</td>\n",
              "    </tr>\n",
              "    <tr>\n",
              "      <th>6</th>\n",
              "      <td>{$KZOS} может организуем какую - то сексту и в...</td>\n",
              "      <td>1</td>\n",
              "      <td>0</td>\n",
              "      <td>0</td>\n",
              "      <td>0</td>\n",
              "    </tr>\n",
              "    <tr>\n",
              "      <th>7</th>\n",
              "      <td>{$KZOSP} держимся до 40, не сливаем</td>\n",
              "      <td>1</td>\n",
              "      <td>0</td>\n",
              "      <td>0</td>\n",
              "      <td>0</td>\n",
              "    </tr>\n",
              "    <tr>\n",
              "      <th>8</th>\n",
              "      <td>{$TSLA} Аналитики прогнозируют 220-250$ к конц...</td>\n",
              "      <td>0</td>\n",
              "      <td>1</td>\n",
              "      <td>0</td>\n",
              "      <td>0</td>\n",
              "    </tr>\n",
              "    <tr>\n",
              "      <th>9</th>\n",
              "      <td>{$UNKL}  не продаем! держим строй!</td>\n",
              "      <td>1</td>\n",
              "      <td>0</td>\n",
              "      <td>0</td>\n",
              "      <td>0</td>\n",
              "    </tr>\n",
              "  </tbody>\n",
              "</table>\n",
              "</div>\n",
              "      <button class=\"colab-df-convert\" onclick=\"convertToInteractive('df-89b82789-c9f9-438d-a211-79579595a471')\"\n",
              "              title=\"Convert this dataframe to an interactive table.\"\n",
              "              style=\"display:none;\">\n",
              "        \n",
              "  <svg xmlns=\"http://www.w3.org/2000/svg\" height=\"24px\"viewBox=\"0 0 24 24\"\n",
              "       width=\"24px\">\n",
              "    <path d=\"M0 0h24v24H0V0z\" fill=\"none\"/>\n",
              "    <path d=\"M18.56 5.44l.94 2.06.94-2.06 2.06-.94-2.06-.94-.94-2.06-.94 2.06-2.06.94zm-11 1L8.5 8.5l.94-2.06 2.06-.94-2.06-.94L8.5 2.5l-.94 2.06-2.06.94zm10 10l.94 2.06.94-2.06 2.06-.94-2.06-.94-.94-2.06-.94 2.06-2.06.94z\"/><path d=\"M17.41 7.96l-1.37-1.37c-.4-.4-.92-.59-1.43-.59-.52 0-1.04.2-1.43.59L10.3 9.45l-7.72 7.72c-.78.78-.78 2.05 0 2.83L4 21.41c.39.39.9.59 1.41.59.51 0 1.02-.2 1.41-.59l7.78-7.78 2.81-2.81c.8-.78.8-2.07 0-2.86zM5.41 20L4 18.59l7.72-7.72 1.47 1.35L5.41 20z\"/>\n",
              "  </svg>\n",
              "      </button>\n",
              "      \n",
              "  <style>\n",
              "    .colab-df-container {\n",
              "      display:flex;\n",
              "      flex-wrap:wrap;\n",
              "      gap: 12px;\n",
              "    }\n",
              "\n",
              "    .colab-df-convert {\n",
              "      background-color: #E8F0FE;\n",
              "      border: none;\n",
              "      border-radius: 50%;\n",
              "      cursor: pointer;\n",
              "      display: none;\n",
              "      fill: #1967D2;\n",
              "      height: 32px;\n",
              "      padding: 0 0 0 0;\n",
              "      width: 32px;\n",
              "    }\n",
              "\n",
              "    .colab-df-convert:hover {\n",
              "      background-color: #E2EBFA;\n",
              "      box-shadow: 0px 1px 2px rgba(60, 64, 67, 0.3), 0px 1px 3px 1px rgba(60, 64, 67, 0.15);\n",
              "      fill: #174EA6;\n",
              "    }\n",
              "\n",
              "    [theme=dark] .colab-df-convert {\n",
              "      background-color: #3B4455;\n",
              "      fill: #D2E3FC;\n",
              "    }\n",
              "\n",
              "    [theme=dark] .colab-df-convert:hover {\n",
              "      background-color: #434B5C;\n",
              "      box-shadow: 0px 1px 3px 1px rgba(0, 0, 0, 0.15);\n",
              "      filter: drop-shadow(0px 1px 2px rgba(0, 0, 0, 0.3));\n",
              "      fill: #FFFFFF;\n",
              "    }\n",
              "  </style>\n",
              "\n",
              "      <script>\n",
              "        const buttonEl =\n",
              "          document.querySelector('#df-89b82789-c9f9-438d-a211-79579595a471 button.colab-df-convert');\n",
              "        buttonEl.style.display =\n",
              "          google.colab.kernel.accessAllowed ? 'block' : 'none';\n",
              "\n",
              "        async function convertToInteractive(key) {\n",
              "          const element = document.querySelector('#df-89b82789-c9f9-438d-a211-79579595a471');\n",
              "          const dataTable =\n",
              "            await google.colab.kernel.invokeFunction('convertToInteractive',\n",
              "                                                     [key], {});\n",
              "          if (!dataTable) return;\n",
              "\n",
              "          const docLinkHtml = 'Like what you see? Visit the ' +\n",
              "            '<a target=\"_blank\" href=https://colab.research.google.com/notebooks/data_table.ipynb>data table notebook</a>'\n",
              "            + ' to learn more about interactive tables.';\n",
              "          element.innerHTML = '';\n",
              "          dataTable['output_type'] = 'display_data';\n",
              "          await google.colab.output.renderOutput(dataTable, element);\n",
              "          const docLink = document.createElement('div');\n",
              "          docLink.innerHTML = docLinkHtml;\n",
              "          element.appendChild(docLink);\n",
              "        }\n",
              "      </script>\n",
              "    </div>\n",
              "  </div>\n",
              "  "
            ]
          },
          "metadata": {},
          "execution_count": 17
        }
      ]
    },
    {
      "cell_type": "code",
      "source": [
        "from collections import Counter\n",
        "\n",
        "counter = Counter()\n",
        "for line in df.post_txt:\n",
        "    counter.update(Counter(line))\n",
        "counter.most_common(10)"
      ],
      "metadata": {
        "id": "kEAOMzWtbP7T",
        "colab": {
          "base_uri": "https://localhost:8080/"
        },
        "outputId": "b0b8d9d2-38e4-46cd-d3fe-7cf3dd277bca"
      },
      "execution_count": null,
      "outputs": [
        {
          "output_type": "execute_result",
          "data": {
            "text/plain": [
              "[(' ', 523534),\n",
              " ('о', 276515),\n",
              " ('а', 218377),\n",
              " ('е', 217844),\n",
              " ('и', 209364),\n",
              " ('т', 182800),\n",
              " ('н', 169564),\n",
              " ('с', 135388),\n",
              " ('р', 133925),\n",
              " ('в', 110941)]"
            ]
          },
          "metadata": {},
          "execution_count": 19
        }
      ]
    },
    {
      "cell_type": "markdown",
      "source": [
        "# Fasttext classification (very bad)"
      ],
      "metadata": {
        "id": "d1f5jztTzm39"
      }
    },
    {
      "cell_type": "code",
      "source": [
        "!git clone https://github.com/facebookresearch/fastText.git\n",
        "%cd fastText\n",
        "!sudo pip install .\n",
        "%cd .."
      ],
      "metadata": {
        "colab": {
          "base_uri": "https://localhost:8080/"
        },
        "id": "wLRyGWdvxiUY",
        "outputId": "f763917b-041b-44ff-ed2b-77eaddba1616"
      },
      "execution_count": null,
      "outputs": [
        {
          "output_type": "stream",
          "name": "stdout",
          "text": [
            "Cloning into 'fastText'...\n",
            "remote: Enumerating objects: 3938, done.\u001b[K\n",
            "remote: Counting objects: 100% (1011/1011), done.\u001b[K\n",
            "remote: Compressing objects: 100% (147/147), done.\u001b[K\n",
            "remote: Total 3938 (delta 915), reused 868 (delta 863), pack-reused 2927\u001b[K\n",
            "Receiving objects: 100% (3938/3938), 8.25 MiB | 14.84 MiB/s, done.\n",
            "Resolving deltas: 100% (2509/2509), done.\n",
            "/content/fastText\n",
            "Looking in indexes: https://pypi.org/simple, https://us-python.pkg.dev/colab-wheels/public/simple/\n",
            "Processing /content/fastText\n",
            "  Preparing metadata (setup.py) ... \u001b[?25l\u001b[?25hdone\n",
            "Collecting pybind11>=2.2\n",
            "  Using cached pybind11-2.10.4-py3-none-any.whl (222 kB)\n",
            "Requirement already satisfied: setuptools>=0.7.0 in /usr/local/lib/python3.10/dist-packages (from fasttext==0.9.2) (67.7.2)\n",
            "Requirement already satisfied: numpy in /usr/local/lib/python3.10/dist-packages (from fasttext==0.9.2) (1.22.4)\n",
            "Building wheels for collected packages: fasttext\n",
            "  Building wheel for fasttext (setup.py) ... \u001b[?25l\u001b[?25hdone\n",
            "  Created wheel for fasttext: filename=fasttext-0.9.2-cp310-cp310-linux_x86_64.whl size=4384288 sha256=414f245f7fd50cbe6ada811ba1d9e645c562f837aff72a61462c8208ad231283\n",
            "  Stored in directory: /tmp/pip-ephem-wheel-cache-kns9d5yk/wheels/8b/05/af/3cfae069d904597d44b309c956601b611bdf8967bcbe968903\n",
            "Successfully built fasttext\n",
            "Installing collected packages: pybind11, fasttext\n",
            "Successfully installed fasttext-0.9.2 pybind11-2.10.4\n",
            "/content\n"
          ]
        }
      ]
    },
    {
      "cell_type": "code",
      "source": [
        "import fasttext.util"
      ],
      "metadata": {
        "id": "ert_50oDtbKc"
      },
      "execution_count": null,
      "outputs": []
    },
    {
      "cell_type": "code",
      "source": [
        "fasttext.util.download_model('ru', if_exists='ignore')"
      ],
      "metadata": {
        "id": "8VUn1z0dxcHR"
      },
      "execution_count": null,
      "outputs": []
    },
    {
      "cell_type": "code",
      "source": [
        "ft = fasttext.load_model('cc.ru.300.bin')"
      ],
      "metadata": {
        "id": "pShwo564yJxE"
      },
      "execution_count": null,
      "outputs": []
    },
    {
      "cell_type": "code",
      "source": [
        "!cp /content/cc.ru.300.bin.gz {data_path}"
      ],
      "metadata": {
        "id": "D2hkbM0lOZcu"
      },
      "execution_count": null,
      "outputs": []
    },
    {
      "cell_type": "code",
      "source": [
        "ft.get_nearest_neighbors(\"ИТкомпании\")"
      ],
      "metadata": {
        "colab": {
          "base_uri": "https://localhost:8080/"
        },
        "id": "IrADnNmPVWIp",
        "outputId": "5d8bf006-354b-4289-abb3-a4692481fa70"
      },
      "execution_count": null,
      "outputs": [
        {
          "output_type": "execute_result",
          "data": {
            "text/plain": [
              "[(0.5832644701004028, 'компании9ffABTAC'),\n",
              " (0.5769837498664856, 'биржеКомпании'),\n",
              " (0.5520970225334167, 'продавцыКомпании'),\n",
              " (0.545464277267456, 'Техкомпании'),\n",
              " (0.5289483070373535, 'вкомпании'),\n",
              " (0.5282614827156067, 'Энергокомпании'),\n",
              " (0.5269455909729004, 'бизнес-компании'),\n",
              " (0.5099751949310303, 'компании.www.Avto-Olimp.ru'),\n",
              " (0.5071448087692261, 'компании808'),\n",
              " (0.5030081868171692, 'компании-интегратора')]"
            ]
          },
          "metadata": {},
          "execution_count": 44
        }
      ]
    },
    {
      "cell_type": "code",
      "source": [
        "lines = []\n",
        "for line, c1, c2, c3, c4 in df.itertuples(index=False, name=None):\n",
        "    _line = \"\"\n",
        "    for w in line.split():\n",
        "        if w.startswith(\"{$\") and w.endswith(\"}\"):\n",
        "            pass\n",
        "        else:\n",
        "            _line += \"\".join(filter(lambda x: x.isalpha(), w)) + ' '\n",
        "    lines.append((_line.strip(), get_label(c1, c2, c3, c4)))"
      ],
      "metadata": {
        "id": "giBRsqAub2Jh"
      },
      "execution_count": null,
      "outputs": []
    },
    {
      "cell_type": "code",
      "source": [
        "with open(\"lines.txt\", \"w\", encoding='utf-8') as f:\n",
        "    for line, label in lines:\n",
        "        f.write(\"__label__\" + label + \" \" + line +  \"\\n\")"
      ],
      "metadata": {
        "id": "tvIlIpLCe2NJ"
      },
      "execution_count": null,
      "outputs": []
    },
    {
      "cell_type": "code",
      "source": [
        "!head lines.txt"
      ],
      "metadata": {
        "colab": {
          "base_uri": "https://localhost:8080/"
        },
        "id": "J8LX4alehq1U",
        "outputId": "efdd34a0-1224-4443-da4a-4591c311721c"
      },
      "execution_count": null,
      "outputs": [
        {
          "output_type": "stream",
          "name": "stdout",
          "text": [
            "__label__manipulation невдумацте покупать и шортить\n",
            "__label__profanity Вспомнил анекдот про лонги Весь писать долго Заканчивается так Нихя дохя нахярили Расхяривай нахй\n",
            "__label__manipulation идеянамиллион Покупаем  ждём рост дивидендов\n",
            "__label__manipulation биржа начинает подниматься  Кто не успел закупить  больше шансов по этой цене не будет\n",
            "__label__advertisement ПОКА ВЫ ПАНИКУЕТЕ МЫ ЗАРАБАТЫВАЕМ КОГДА ЛИКВИДНЫЕ АКЦИИ ПАДАЮТ ТО ЛОГИЧНО ИХ ПРИОБРЕТАТЬ ЧТО МЫ И СДЕЛАЛИ КОГДА ИЗ КАЖДОГО УТЮГА КРИЧАЛИ БУДЕТ КРАХ ОБВАЛ БИРЖИ МЫ ПОЛЬЗОВАЛИСЬ ХОРОШИМИ ЦЕНАМИ НА АКЦИИСБЕР РОСНЕФТЬ И ТД НА ЧЕМ СЕЙЧАС ПРЕКРАСНО ЗАРАБАТЫВАЕМ КТО ДАВНО ПОДПИСАН НА МЕНЯ ТОТ ЗНАЕТ ЧТО СО МНОЙ ЗАРАБАТЫВАЮТ учувпульсе проявисебявпульсе новичкам психология пульс сбербанк акции инвестиции трейдинг добычаденег\n",
            "__label__manipulation Экстренно Дивиденды могут отменить Будьте аккуратней вышла новость её сразу же удалили Я если найду подтверждение то обязательно выложу Ситуация напряжённая 2021 повторяется\n",
            "__label__manipulation может организуем какую  то сексту и все дружно будет покупать и ходить по одним и тем же акциям  а кто не в секте будут видеть этот памп во взлетах дня и бежать скупать\n",
            "__label__manipulation держимся до  не сливаем\n",
            "__label__profanity Аналитики прогнозируют  к концу года Верите Я категорически нет  Тебе подарок httpswwwtinkoffruslXPQQrHpNr Два месяца Тинькофф premium совершенно бесплатно по ссылке Двух месяцев совершенно достаточно чтоб понять все прелести premium Сам рад таким плюшкам  ЛИЧНОГО менеджера по инвестициям  только ули толку от него сам вроде справляюсь  аналитика бумаг от Тинькофф   бесплатное обслуживание счетов   на остаток по карте  на накопительный счет и  на вклад  Очень крутой тариф в Мобайле а именно полный безлимит по минутам и гб инета за  до этого платил за связь чуть меньше к  Скидка  на ТЖ  Премиальная поддержка оператора реально отличается от обычного  Очень много других интересных сервисов в том числе проходы в бизнес залы в аэропортах  разамесяц  Ну и конечно металическая карта\n",
            "__label__manipulation не продаем держим строй\n"
          ]
        }
      ]
    },
    {
      "cell_type": "code",
      "source": [
        "model = fasttext.train_supervised(input=\"lines.txt\", wordNgrams=5, lr=1.0, epoch=25)"
      ],
      "metadata": {
        "id": "ldw0LdBDhxi_"
      },
      "execution_count": null,
      "outputs": []
    },
    {
      "cell_type": "code",
      "source": [
        "model.predict(\"блять\", k=4)"
      ],
      "metadata": {
        "colab": {
          "base_uri": "https://localhost:8080/"
        },
        "id": "gF1MEbeBjUEE",
        "outputId": "fb5bf050-4c4b-4095-b56d-121cf1eb0fe3"
      },
      "execution_count": null,
      "outputs": [
        {
          "output_type": "execute_result",
          "data": {
            "text/plain": [
              "(('__label__normal',\n",
              "  '__label__profanity',\n",
              "  '__label__begging',\n",
              "  '__label__advertisement'),\n",
              " array([1.00001001e+00, 1.00000034e-05, 1.00000034e-05, 1.00000034e-05]))"
            ]
          },
          "metadata": {},
          "execution_count": 71
        }
      ]
    },
    {
      "cell_type": "code",
      "source": [
        "model.test(\"lines.txt\")"
      ],
      "metadata": {
        "colab": {
          "base_uri": "https://localhost:8080/"
        },
        "id": "YjYVrqeBiTTW",
        "outputId": "9b6d0687-28ba-4b7b-a6ed-028c249bfa1e"
      },
      "execution_count": null,
      "outputs": [
        {
          "output_type": "execute_result",
          "data": {
            "text/plain": [
              "(24834, 0.824112104373037, 0.824112104373037)"
            ]
          },
          "metadata": {},
          "execution_count": 72
        }
      ]
    },
    {
      "cell_type": "code",
      "source": [
        "from nltk.tokenize.regexp import RegexpTokenizer"
      ],
      "metadata": {
        "id": "eGTpStCbC_F3"
      },
      "execution_count": null,
      "outputs": []
    },
    {
      "cell_type": "code",
      "source": [
        "lines = []\n",
        "tokenizer = RegexpTokenizer(r\"\\w+\")\n",
        "for line, *_ in df.itertuples(index=False, name=None):\n",
        "    lines.append(\" \".join(tokenizer.tokenize(line.lower())))\n",
        "lines[:5]"
      ],
      "metadata": {
        "id": "LJY4f7sxByKC"
      },
      "execution_count": null,
      "outputs": []
    },
    {
      "cell_type": "code",
      "source": [
        "with open(\"lines.txt\", \"w\") as f:\n",
        "    f.write(\"\\n\".join(lines))"
      ],
      "metadata": {
        "id": "3bvJgkqOEExQ"
      },
      "execution_count": null,
      "outputs": []
    },
    {
      "cell_type": "code",
      "source": [
        "!head lines.txt -n 5"
      ],
      "metadata": {
        "colab": {
          "base_uri": "https://localhost:8080/"
        },
        "id": "YCqh4GsvEe39",
        "outputId": "90513437-c2db-4a63-813c-9aff0ce259cf"
      },
      "execution_count": null,
      "outputs": [
        {
          "output_type": "stream",
          "name": "stdout",
          "text": [
            "ngg3 невдумацте покупать и шортить\n",
            "ngf3 вспомнил анекдот про лонги весь писать долго заканчивается так них я дох я нах ярили расх яривай нах й\n",
            "posi идея_на_миллион покупаем ждём рост дивидендов\n",
            "uwgn биржа начинает подниматься кто не успел закупить больше шансов по этой цене не будет\n",
            "пока вы паникуете мы зарабатываем когда ликвидные акции падают то логично их приобретать что мы и сделали когда из каждого утюга кричали будет крах обвал биржи мы пользовались хорошими ценами на акции сбер роснефть и т д на чем сейчас прекрасно зарабатываем кто давно подписан на меня тот знает что со мной зарабатывают учу_в_пульсе прояви_себя_в_пульсе новичкам психология пульс сбербанк акции инвестиции трейдинг добычаденег sber rosn\n"
          ]
        }
      ]
    },
    {
      "cell_type": "code",
      "source": [
        "import fasttext"
      ],
      "metadata": {
        "id": "7L2o_Ra3Em9s"
      },
      "execution_count": null,
      "outputs": []
    },
    {
      "cell_type": "code",
      "source": [
        "model = fasttext.train_unsupervised(\"lines.txt\", minn=2, maxn=5, dim=50, epoch=8, lr=.02)"
      ],
      "metadata": {
        "id": "Yvdaq-LgEvpo"
      },
      "execution_count": null,
      "outputs": []
    },
    {
      "cell_type": "code",
      "source": [
        "model.save_model(str(data_path / \"custom_embedding.model\"))"
      ],
      "metadata": {
        "id": "1-8QmIyoHQms"
      },
      "execution_count": null,
      "outputs": []
    },
    {
      "cell_type": "code",
      "source": [
        "import fasttext"
      ],
      "metadata": {
        "id": "lw02AV_Hq1ou"
      },
      "execution_count": null,
      "outputs": []
    },
    {
      "cell_type": "code",
      "source": [
        "model = fasttext.load_model(str(data_path / \"custom_embedding.model\"))"
      ],
      "metadata": {
        "id": "NDc2jTEqnkmh"
      },
      "execution_count": null,
      "outputs": []
    },
    {
      "cell_type": "code",
      "source": [
        "with open(data_path / \"custom_embedding.vec\", \"w\", encoding=\"utf-8\") as f:\n",
        "    f.write(f\"{len(model.get_words())} {model.get_dimension()}\\n\")\n",
        "    f.write(\"\\n\".join([w + \" \" + \" \".join(map(str, model.get_word_vector(w))) for w in model.get_words()]))"
      ],
      "metadata": {
        "id": "BRuqZGRUnTcZ"
      },
      "execution_count": null,
      "outputs": []
    },
    {
      "cell_type": "markdown",
      "source": [
        "# Custom Embedding RNN"
      ],
      "metadata": {
        "id": "h6WKpzmJIHSE"
      }
    },
    {
      "cell_type": "markdown",
      "source": [
        "## Imports"
      ],
      "metadata": {
        "id": "UiKN-Ug2IbN3"
      }
    },
    {
      "cell_type": "code",
      "source": [
        "import numpy as np\n",
        "import pandas as pd\n",
        "import seaborn as sns\n",
        "import matplotlib.pyplot as plt\n",
        "\n",
        "import keras\n",
        "from keras import optimizers\n",
        "from keras import backend as K\n",
        "from keras import regularizers\n",
        "from keras.models import Sequential\n",
        "from keras.layers import Dense, Activation, Dropout, Flatten\n",
        "from keras.layers import Embedding, Conv1D, MaxPooling1D, GlobalMaxPooling1D \n",
        "from keras.utils import plot_model\n",
        "from keras.preprocessing import sequence\n",
        "from keras.preprocessing.text import Tokenizer\n",
        "from keras.callbacks import EarlyStopping\n",
        "\n",
        "from tqdm import tqdm\n",
        "from nltk.corpus import stopwords\n",
        "from nltk.tokenize import RegexpTokenizer \n",
        "import os, re, csv, math, codecs\n",
        "\n",
        "from sklearn.model_selection import train_test_split\n",
        "from keras.utils import pad_sequences\n",
        "from keras.layers import Bidirectional, LSTM, Embedding\n",
        "import pickle"
      ],
      "metadata": {
        "id": "nr8ilQSAIckU"
      },
      "execution_count": 82,
      "outputs": []
    },
    {
      "cell_type": "code",
      "source": [
        "#training params\n",
        "batch_size = 256 \n",
        "num_epochs = 8 \n",
        "\n",
        "#model parameters\n",
        "num_filters = 64 \n",
        "embed_dim = 300 \n",
        "weight_decay = 1e-4"
      ],
      "metadata": {
        "id": "XJXz_UKxIVk6"
      },
      "execution_count": 83,
      "outputs": []
    },
    {
      "cell_type": "code",
      "source": [
        "import nltk\n",
        "nltk.download(\"stopwords\")"
      ],
      "metadata": {
        "colab": {
          "base_uri": "https://localhost:8080/"
        },
        "outputId": "812c9cf0-23b9-4456-e8ce-afa82592c2c8",
        "id": "jR16NMuqIVk8"
      },
      "execution_count": 84,
      "outputs": [
        {
          "output_type": "stream",
          "name": "stderr",
          "text": [
            "[nltk_data] Downloading package stopwords to /root/nltk_data...\n",
            "[nltk_data]   Package stopwords is already up-to-date!\n"
          ]
        },
        {
          "output_type": "execute_result",
          "data": {
            "text/plain": [
              "True"
            ]
          },
          "metadata": {},
          "execution_count": 84
        }
      ]
    },
    {
      "cell_type": "code",
      "source": [
        "sns.set_style(\"whitegrid\")\n",
        "np.random.seed(0)"
      ],
      "metadata": {
        "id": "dajktLKhIVk9"
      },
      "execution_count": 85,
      "outputs": []
    },
    {
      "cell_type": "code",
      "source": [
        "MAX_NB_WORDS = 100000\n",
        "tokenizer = RegexpTokenizer(r'\\w+')\n",
        "stop_words = set(stopwords.words('russian'))\n",
        "stop_words.update(['.', ',', '\"', \"'\", ':', ';', '(', ')', '[', ']', '{', '}'])"
      ],
      "metadata": {
        "id": "d4rkz9VpIVk-"
      },
      "execution_count": 86,
      "outputs": []
    },
    {
      "cell_type": "code",
      "source": [
        "emb_model.get_output_matrix()"
      ],
      "metadata": {
        "colab": {
          "base_uri": "https://localhost:8080/",
          "height": 165
        },
        "id": "XAsdTM15cg_z",
        "outputId": "46c4b06e-b430-4194-eec9-9f8ab74d9cb9"
      },
      "execution_count": 87,
      "outputs": [
        {
          "output_type": "error",
          "ename": "NameError",
          "evalue": "ignored",
          "traceback": [
            "\u001b[0;31m---------------------------------------------------------------------------\u001b[0m",
            "\u001b[0;31mNameError\u001b[0m                                 Traceback (most recent call last)",
            "\u001b[0;32m<ipython-input-87-8049139c0991>\u001b[0m in \u001b[0;36m<cell line: 1>\u001b[0;34m()\u001b[0m\n\u001b[0;32m----> 1\u001b[0;31m \u001b[0memb_model\u001b[0m\u001b[0;34m.\u001b[0m\u001b[0mget_output_matrix\u001b[0m\u001b[0;34m(\u001b[0m\u001b[0;34m)\u001b[0m\u001b[0;34m\u001b[0m\u001b[0;34m\u001b[0m\u001b[0m\n\u001b[0m",
            "\u001b[0;31mNameError\u001b[0m: name 'emb_model' is not defined"
          ]
        }
      ]
    },
    {
      "cell_type": "code",
      "source": [
        "USE_TRAIN_TEST_SPLIT = True"
      ],
      "metadata": {
        "id": "p5_2rY5lImmU"
      },
      "execution_count": null,
      "outputs": []
    },
    {
      "cell_type": "code",
      "source": [
        "if USE_TRAIN_TEST_SPLIT:\n",
        "    train_df, test_df = train_test_split(df, train_size=.8)\n",
        "    print(\"num train: \", train_df.shape[0])\n",
        "    print(\"num test: \", test_df.shape[0])\n",
        "else:\n",
        "    train_df = df"
      ],
      "metadata": {
        "id": "vAHvzGMYImmW"
      },
      "execution_count": null,
      "outputs": []
    },
    {
      "cell_type": "code",
      "source": [
        "label_names = ('normal', 'profanity', 'begging', 'advertisement', 'manipulation')"
      ],
      "metadata": {
        "id": "VDwXKvwQImmX"
      },
      "execution_count": null,
      "outputs": []
    },
    {
      "cell_type": "code",
      "source": [
        "y_train = []\n",
        "for _, c1, c2, c3, c4, *_ in train_df.itertuples(index=False, name=None):\n",
        "    y_train.append([c1, c2, c3, c4, int(not (c1 or c2 or c3 or c4))])"
      ],
      "metadata": {
        "id": "4CtSak_6ImmY"
      },
      "execution_count": null,
      "outputs": []
    },
    {
      "cell_type": "code",
      "source": [
        "train_df['doc_len'] = train_df['post_txt'].apply(lambda words: len(words.split(\" \")))\n",
        "max_seq_len = np.max(train_df['doc_len']).astype(int)"
      ],
      "metadata": {
        "id": "Y208c4YbImmZ"
      },
      "execution_count": null,
      "outputs": []
    },
    {
      "cell_type": "code",
      "source": [
        "raw_docs_train = train_df['post_txt'].tolist()\n",
        "if USE_TRAIN_TEST_SPLIT:\n",
        "    raw_docs_test = test_df['post_txt'].tolist() \n",
        "num_classes = len(label_names)"
      ],
      "metadata": {
        "id": "xms-5WOMI2vo"
      },
      "execution_count": null,
      "outputs": []
    },
    {
      "cell_type": "code",
      "source": [
        "processed_docs_train = []\n",
        "for doc in tqdm(raw_docs_train):\n",
        "    tokens = tokenizer.tokenize(doc.lower())\n",
        "    filtered = [word for word in tokens if word not in stop_words]\n",
        "    processed_docs_train.append(\" \".join(filtered))\n",
        "\n",
        "if USE_TRAIN_TEST_SPLIT:\n",
        "    processed_docs_test = []\n",
        "    for doc in tqdm(raw_docs_test):\n",
        "        tokens = tokenizer.tokenize(doc.lower())\n",
        "        filtered = [word for word in tokens if word not in stop_words]\n",
        "        processed_docs_test.append(\" \".join(filtered))"
      ],
      "metadata": {
        "id": "4WI7RKYRI2vq"
      },
      "execution_count": null,
      "outputs": []
    },
    {
      "cell_type": "code",
      "source": [
        "def parse_line(line):\n",
        "    res = []\n",
        "    for w in line.split():\n",
        "        res.append(emb_model.get_word_id(w))\n",
        "        if res[-1] == -1:\n",
        "            res.pop()\n",
        "    return res"
      ],
      "metadata": {
        "id": "HpU6L4zxfZTg"
      },
      "execution_count": null,
      "outputs": []
    },
    {
      "cell_type": "code",
      "source": [
        "print(*[parse_line(line) for line in processed_docs_train][:10], sep=\"\\n\")"
      ],
      "metadata": {
        "id": "4QrdDbBSgns8"
      },
      "execution_count": null,
      "outputs": []
    },
    {
      "cell_type": "code",
      "source": [
        "word_tokens_train = pad_sequences([parse_line(line) for line in processed_docs_train], maxlen=max_seq_len)\n",
        "if USE_TRAIN_TEST_SPLIT:\n",
        "    word_tokens_test = pad_sequences([parse_line(line) for line in processed_docs_test], maxlen=max_seq_len)"
      ],
      "metadata": {
        "id": "O5j4MzkWI2vs"
      },
      "execution_count": null,
      "outputs": []
    },
    {
      "cell_type": "code",
      "source": [
        "np.array(word_tokens_train).shape"
      ],
      "metadata": {
        "id": "JvoKgS_Vh4Q8"
      },
      "execution_count": null,
      "outputs": []
    },
    {
      "cell_type": "code",
      "source": [
        "model = Sequential()\n",
        "model.add(Embedding(len(emb_model.get_words()), emb_model.get_dimension(),\n",
        "          weights=[emb_model.get_output_matrix()], input_length=max_seq_len, trainable=False))\n",
        "model.add(Bidirectional(LSTM(50)))\n",
        "model.add(Dense(num_classes, activation='sigmoid'))\n",
        "\n",
        "adam = optimizers.Adam(lr=0.001, beta_1=0.9, beta_2=0.999, epsilon=1e-08, decay=0.0)\n",
        "model.compile(loss='binary_crossentropy', optimizer=adam, metrics=['accuracy'])\n",
        "model.summary()"
      ],
      "metadata": {
        "id": "5kOm9azTWlR7"
      },
      "execution_count": null,
      "outputs": []
    },
    {
      "cell_type": "code",
      "source": [
        "hist = model.fit(\n",
        "    word_tokens_train,\n",
        "    np.array(y_train),\n",
        "    batch_size=batch_size,\n",
        "    epochs=num_epochs,\n",
        "    shuffle=True,\n",
        "    validation_split=.25,\n",
        "    verbose=2\n",
        ")"
      ],
      "metadata": {
        "id": "5h_r2jG5WHgW"
      },
      "execution_count": null,
      "outputs": []
    },
    {
      "cell_type": "markdown",
      "source": [
        "# CNN and RNN"
      ],
      "metadata": {
        "id": "hnERfWaM1nkC"
      }
    },
    {
      "cell_type": "markdown",
      "source": [
        "## Imports"
      ],
      "metadata": {
        "id": "v3gvtDxS1tAy"
      }
    },
    {
      "cell_type": "code",
      "source": [
        "import numpy as np\n",
        "import pandas as pd\n",
        "import seaborn as sns\n",
        "import matplotlib.pyplot as plt\n",
        "\n",
        "import keras\n",
        "from keras import optimizers\n",
        "from keras import backend as K\n",
        "from keras import regularizers\n",
        "from keras.models import Sequential\n",
        "from keras.layers import Dense, Activation, Dropout, Flatten\n",
        "from keras.layers import Embedding, Conv1D, MaxPooling1D, GlobalMaxPooling1D \n",
        "from keras.utils import plot_model\n",
        "from keras.preprocessing import sequence\n",
        "from keras.preprocessing.text import Tokenizer\n",
        "from keras.callbacks import EarlyStopping\n",
        "\n",
        "from tqdm import tqdm\n",
        "from nltk.corpus import stopwords\n",
        "from nltk.tokenize import RegexpTokenizer \n",
        "import os, re, csv, math, codecs\n",
        "\n",
        "from sklearn.model_selection import train_test_split\n",
        "from keras.utils import pad_sequences\n",
        "from keras.layers import Bidirectional, LSTM, Embedding\n",
        "import pickle"
      ],
      "metadata": {
        "id": "1Vz3TaF2oxAs"
      },
      "execution_count": 1,
      "outputs": []
    },
    {
      "cell_type": "code",
      "source": [
        "#training params\n",
        "batch_size = 256 \n",
        "num_epochs = 8 \n",
        "\n",
        "#model parameters\n",
        "num_filters = 64 \n",
        "embed_dim = 50 \n",
        "weight_decay = 1e-4"
      ],
      "metadata": {
        "id": "ef-JoeOH6WP8"
      },
      "execution_count": 2,
      "outputs": []
    },
    {
      "cell_type": "code",
      "source": [
        "import nltk\n",
        "nltk.download(\"stopwords\")"
      ],
      "metadata": {
        "colab": {
          "base_uri": "https://localhost:8080/"
        },
        "id": "LDeiTmx2yliS",
        "outputId": "485fb0f9-0b28-44c2-fccc-0f52d62aace3"
      },
      "execution_count": 3,
      "outputs": [
        {
          "output_type": "stream",
          "name": "stderr",
          "text": [
            "[nltk_data] Downloading package stopwords to /root/nltk_data...\n",
            "[nltk_data]   Unzipping corpora/stopwords.zip.\n"
          ]
        },
        {
          "output_type": "execute_result",
          "data": {
            "text/plain": [
              "True"
            ]
          },
          "metadata": {},
          "execution_count": 3
        }
      ]
    },
    {
      "cell_type": "code",
      "source": [
        "sns.set_style(\"whitegrid\")\n",
        "np.random.seed(0)"
      ],
      "metadata": {
        "id": "I278XYxSyqp4"
      },
      "execution_count": 4,
      "outputs": []
    },
    {
      "cell_type": "code",
      "source": [
        "MAX_NB_WORDS = 100000\n",
        "tokenizer = RegexpTokenizer(r'\\w+')\n",
        "stop_words = set(stopwords.words('russian'))\n",
        "stop_words.update(['.', ',', '\"', \"'\", ':', ';', '(', ')', '[', ']', '{', '}'])\n",
        "EMBEDDING_PATH = data_path / \"custom_embedding.vec\"\n",
        "# EMBEDDING_PATH = data_path / \"cc.ru.300.vec\"\n",
        "FREQ_FILTER = 5"
      ],
      "metadata": {
        "id": "7-TP3nHNyT06"
      },
      "execution_count": 10,
      "outputs": []
    },
    {
      "cell_type": "markdown",
      "source": [
        "## Freq Analyze"
      ],
      "metadata": {
        "id": "zadib84I_52K"
      }
    },
    {
      "cell_type": "code",
      "source": [
        "from collections import Counter"
      ],
      "metadata": {
        "id": "xSGdoxnQ5IZP"
      },
      "execution_count": 11,
      "outputs": []
    },
    {
      "cell_type": "code",
      "source": [
        "tokenizer = RegexpTokenizer(r'\\w+')\n",
        "texts = []\n",
        "for line in df.post_txt:\n",
        "    texts += [w for w in tokenizer.tokenize(line.lower()) if w not in stop_words]\n",
        "arr = np.fromiter(map(lambda x: x[1], Counter(texts).most_common()), dtype=int)\n",
        "counter = Counter(texts)"
      ],
      "metadata": {
        "id": "Nhqypg8d4vDL"
      },
      "execution_count": 12,
      "outputs": []
    },
    {
      "cell_type": "code",
      "source": [
        "arr.shape[0] * .2"
      ],
      "metadata": {
        "colab": {
          "base_uri": "https://localhost:8080/"
        },
        "id": "50g3j6iF99X4",
        "outputId": "a28c79a6-34a8-4c54-9a29-8c8c97ee52b5"
      },
      "execution_count": 13,
      "outputs": [
        {
          "output_type": "execute_result",
          "data": {
            "text/plain": [
              "11242.2"
            ]
          },
          "metadata": {},
          "execution_count": 13
        }
      ]
    },
    {
      "cell_type": "code",
      "source": [
        "np.quantile(arr, .8)"
      ],
      "metadata": {
        "colab": {
          "base_uri": "https://localhost:8080/"
        },
        "id": "97Ebum6W66ku",
        "outputId": "701daaf1-1afd-4fe0-b815-137d89915a16"
      },
      "execution_count": 14,
      "outputs": [
        {
          "output_type": "execute_result",
          "data": {
            "text/plain": [
              "5.0"
            ]
          },
          "metadata": {},
          "execution_count": 14
        }
      ]
    },
    {
      "cell_type": "markdown",
      "source": [
        "## Download fasttext vectors"
      ],
      "metadata": {
        "id": "reD1qFpK1yWn"
      }
    },
    {
      "cell_type": "code",
      "source": [
        "!wget https://dl.fbaipublicfiles.com/fasttext/vectors-crawl/cc.ru.300.vec.gz"
      ],
      "metadata": {
        "colab": {
          "base_uri": "https://localhost:8080/"
        },
        "id": "XsfsiX5CyuI2",
        "outputId": "eaf17e53-ac10-49c2-80a6-e975cada8312"
      },
      "execution_count": 15,
      "outputs": [
        {
          "output_type": "stream",
          "name": "stdout",
          "text": [
            "--2023-05-03 23:47:38--  https://dl.fbaipublicfiles.com/fasttext/vectors-crawl/cc.ru.300.vec.gz\n",
            "Resolving dl.fbaipublicfiles.com (dl.fbaipublicfiles.com)... 108.157.162.83, 108.157.162.108, 108.157.162.35, ...\n",
            "Connecting to dl.fbaipublicfiles.com (dl.fbaipublicfiles.com)|108.157.162.83|:443... connected.\n",
            "HTTP request sent, awaiting response... 200 OK\n",
            "Length: 1306357571 (1.2G) [binary/octet-stream]\n",
            "Saving to: ‘cc.ru.300.vec.gz’\n",
            "\n",
            "cc.ru.300.vec.gz    100%[===================>]   1.22G  76.0MB/s    in 12s     \n",
            "\n",
            "2023-05-03 23:47:51 (106 MB/s) - ‘cc.ru.300.vec.gz’ saved [1306357571/1306357571]\n",
            "\n"
          ]
        }
      ]
    },
    {
      "cell_type": "code",
      "source": [
        "!gunzip cc.ru.300.vec.gz"
      ],
      "metadata": {
        "id": "F-w47QcqzeA6"
      },
      "execution_count": 16,
      "outputs": []
    },
    {
      "cell_type": "code",
      "source": [
        "!cp /content/cc.ru.300.vec {data_path}"
      ],
      "metadata": {
        "id": "9u0rIZky1FBs"
      },
      "execution_count": 17,
      "outputs": []
    },
    {
      "cell_type": "markdown",
      "source": [
        "## Load embeddings"
      ],
      "metadata": {
        "id": "g26LlmeS17D9"
      }
    },
    {
      "cell_type": "code",
      "source": [
        "embeddings_index = {}\n",
        "f = codecs.open(EMBEDDING_PATH, encoding='utf-8')\n",
        "for line in tqdm(f):\n",
        "    values = line.rstrip().rsplit(' ')\n",
        "    word = values[0]\n",
        "    coefs = np.asarray(values[1:], dtype='float32')\n",
        "    embeddings_index[word] = coefs\n",
        "f.close()\n",
        "print('\\nfound %s word vectors' % len(embeddings_index))"
      ],
      "metadata": {
        "colab": {
          "base_uri": "https://localhost:8080/"
        },
        "id": "F0hEyBJX2B6F",
        "outputId": "78a1116d-b2aa-4984-d42e-6a3a6950a7d2"
      },
      "execution_count": 18,
      "outputs": [
        {
          "output_type": "stream",
          "name": "stderr",
          "text": [
            "13129it [00:00, 16002.32it/s]"
          ]
        },
        {
          "output_type": "stream",
          "name": "stdout",
          "text": [
            "\n",
            "found 13129 word vectors\n"
          ]
        },
        {
          "output_type": "stream",
          "name": "stderr",
          "text": [
            "\n"
          ]
        }
      ]
    },
    {
      "cell_type": "markdown",
      "source": [
        "## Prepare train/test data"
      ],
      "metadata": {
        "id": "9p6wkWk12Txi"
      }
    },
    {
      "cell_type": "code",
      "source": [
        "USE_TRAIN_TEST_SPLIT = True"
      ],
      "metadata": {
        "id": "qoOjVLTS2hAt"
      },
      "execution_count": 19,
      "outputs": []
    },
    {
      "cell_type": "code",
      "source": [
        "if USE_TRAIN_TEST_SPLIT:\n",
        "    train_df, test_df = train_test_split(df, train_size=.8)\n",
        "    print(\"num train: \", train_df.shape[0])\n",
        "    print(\"num test: \", test_df.shape[0])\n",
        "else:\n",
        "    train_df = df"
      ],
      "metadata": {
        "id": "soZMoQ_F4Vpp",
        "colab": {
          "base_uri": "https://localhost:8080/"
        },
        "outputId": "52b5177c-583d-4f2f-c9b9-cea12fd0ef9f"
      },
      "execution_count": 20,
      "outputs": [
        {
          "metadata": {
            "tags": null
          },
          "name": "stdout",
          "output_type": "stream",
          "text": [
            "num train:  19867\n",
            "num test:  4967\n"
          ]
        }
      ]
    },
    {
      "cell_type": "code",
      "source": [
        "label_names = ('normal', 'profanity', 'begging', 'advertisement', 'manipulation')"
      ],
      "metadata": {
        "id": "jhZKqoLV2Nj3"
      },
      "execution_count": 21,
      "outputs": []
    },
    {
      "cell_type": "code",
      "source": [
        "y_train = []\n",
        "for _, c1, c2, c3, c4, *_ in train_df.itertuples(index=False, name=None):\n",
        "    y_train.append([c1, c2, c3, c4, int(not (c1 or c2 or c3 or c4))])"
      ],
      "metadata": {
        "id": "pAO2C6st5OBV"
      },
      "execution_count": 22,
      "outputs": []
    },
    {
      "cell_type": "code",
      "source": [
        "train_df['doc_len'] = train_df['post_txt'].apply(lambda words: len(words.split(\" \")))\n",
        "max_seq_len = np.round(train_df['doc_len'].mean() + train_df['doc_len'].std()).astype(int)"
      ],
      "metadata": {
        "id": "C8UQy3ya6eB9"
      },
      "execution_count": 23,
      "outputs": []
    },
    {
      "cell_type": "markdown",
      "source": [
        "## Визуализация данных"
      ],
      "metadata": {
        "id": "8mJJ-5x62_nQ"
      }
    },
    {
      "cell_type": "code",
      "source": [
        "sns.distplot(train_df['doc_len'], hist=True, kde=True, color='b', label='doc len')\n",
        "plt.axvline(x=max_seq_len, color='k', linestyle='--', label='max len')\n",
        "plt.title('comment length'); plt.legend()\n",
        "plt.show()"
      ],
      "metadata": {
        "colab": {
          "base_uri": "https://localhost:8080/",
          "height": 663
        },
        "id": "_IlpveIg4-1P",
        "outputId": "11442339-fad1-4981-cd7b-21edda9c63f7"
      },
      "execution_count": 24,
      "outputs": [
        {
          "output_type": "stream",
          "name": "stderr",
          "text": [
            "<ipython-input-24-a01f22af2e0c>:1: UserWarning: \n",
            "\n",
            "`distplot` is a deprecated function and will be removed in seaborn v0.14.0.\n",
            "\n",
            "Please adapt your code to use either `displot` (a figure-level function with\n",
            "similar flexibility) or `histplot` (an axes-level function for histograms).\n",
            "\n",
            "For a guide to updating your code to use the new functions, please see\n",
            "https://gist.github.com/mwaskom/de44147ed2974457ad6372750bbe5751\n",
            "\n",
            "  sns.distplot(train_df['doc_len'], hist=True, kde=True, color='b', label='doc len')\n"
          ]
        },
        {
          "output_type": "display_data",
          "data": {
            "text/plain": [
              "<Figure size 640x480 with 1 Axes>"
            ],
            "image/png": "[encoded data removed]"
          },
          "metadata": {}
        }
      ]
    },
    {
      "cell_type": "markdown",
      "source": [
        "## Векторизация"
      ],
      "metadata": {
        "id": "zTx-Hhwh3LPL"
      }
    },
    {
      "cell_type": "code",
      "source": [
        "raw_docs_train = train_df['post_txt'].tolist()\n",
        "if USE_TRAIN_TEST_SPLIT:\n",
        "    raw_docs_test = test_df['post_txt'].tolist() \n",
        "num_classes = len(label_names)"
      ],
      "metadata": {
        "id": "c3gC72t15rI4"
      },
      "execution_count": 25,
      "outputs": []
    },
    {
      "cell_type": "code",
      "source": [
        "counter = create_counter(df)\n",
        "\n",
        "processed_docs_train = []\n",
        "for doc in tqdm(raw_docs_train):\n",
        "    tokens = tokenizer.tokenize(doc.lower())\n",
        "    filtered = [word for word in tokens if (word not in stop_words) and (counter[word] >= FREQ_FILTER)]\n",
        "    processed_docs_train.append(\" \".join(filtered))\n",
        "\n",
        "if USE_TRAIN_TEST_SPLIT:\n",
        "    processed_docs_test = []\n",
        "    for doc in tqdm(raw_docs_test):\n",
        "        tokens = tokenizer.tokenize(doc.lower())\n",
        "        filtered = [word for word in tokens if (word not in stop_words) and (counter[word] >= FREQ_FILTER)]\n",
        "        processed_docs_test.append(\" \".join(filtered))"
      ],
      "metadata": {
        "colab": {
          "base_uri": "https://localhost:8080/",
          "height": 235
        },
        "id": "sWHkFsLk6E2h",
        "outputId": "9c298074-0f76-4919-e5bb-1d6b7906476d"
      },
      "execution_count": 27,
      "outputs": [
        {
          "output_type": "error",
          "ename": "NameError",
          "evalue": "ignored",
          "traceback": [
            "\u001b[0;31m---------------------------------------------------------------------------\u001b[0m",
            "\u001b[0;31mNameError\u001b[0m                                 Traceback (most recent call last)",
            "\u001b[0;32m<ipython-input-27-7c454a883f71>\u001b[0m in \u001b[0;36m<cell line: 1>\u001b[0;34m()\u001b[0m\n\u001b[0;32m----> 1\u001b[0;31m \u001b[0mcounter\u001b[0m \u001b[0;34m=\u001b[0m \u001b[0mcreate_counter\u001b[0m\u001b[0;34m(\u001b[0m\u001b[0mdf\u001b[0m\u001b[0;34m)\u001b[0m\u001b[0;34m\u001b[0m\u001b[0;34m\u001b[0m\u001b[0m\n\u001b[0m\u001b[1;32m      2\u001b[0m \u001b[0;34m\u001b[0m\u001b[0m\n\u001b[1;32m      3\u001b[0m \u001b[0mprocessed_docs_train\u001b[0m \u001b[0;34m=\u001b[0m \u001b[0;34m[\u001b[0m\u001b[0;34m]\u001b[0m\u001b[0;34m\u001b[0m\u001b[0;34m\u001b[0m\u001b[0m\n\u001b[1;32m      4\u001b[0m \u001b[0;32mfor\u001b[0m \u001b[0mdoc\u001b[0m \u001b[0;32min\u001b[0m \u001b[0mtqdm\u001b[0m\u001b[0;34m(\u001b[0m\u001b[0mraw_docs_train\u001b[0m\u001b[0;34m)\u001b[0m\u001b[0;34m:\u001b[0m\u001b[0;34m\u001b[0m\u001b[0;34m\u001b[0m\u001b[0m\n\u001b[1;32m      5\u001b[0m     \u001b[0mtokens\u001b[0m \u001b[0;34m=\u001b[0m \u001b[0mtokenizer\u001b[0m\u001b[0;34m.\u001b[0m\u001b[0mtokenize\u001b[0m\u001b[0;34m(\u001b[0m\u001b[0mdoc\u001b[0m\u001b[0;34m.\u001b[0m\u001b[0mlower\u001b[0m\u001b[0;34m(\u001b[0m\u001b[0;34m)\u001b[0m\u001b[0;34m)\u001b[0m\u001b[0;34m\u001b[0m\u001b[0;34m\u001b[0m\u001b[0m\n",
            "\u001b[0;31mNameError\u001b[0m: name 'create_counter' is not defined"
          ]
        }
      ]
    },
    {
      "cell_type": "code",
      "source": [
        "tokenizer = Tokenizer(num_words=MAX_NB_WORDS, lower=True, char_level=False)\n",
        "if USE_TRAIN_TEST_SPLIT:\n",
        "    tokenizer.fit_on_texts(processed_docs_train + processed_docs_test)\n",
        "    word_seq_test = tokenizer.texts_to_sequences(processed_docs_test)\n",
        "else:\n",
        "    tokenizer.fit_on_texts(processed_docs_train)\n",
        "\n",
        "word_seq_train = tokenizer.texts_to_sequences(processed_docs_train)\n",
        "\n",
        "word_index = tokenizer.word_index\n",
        "print(\"dictionary size: \", len(word_index))"
      ],
      "metadata": {
        "colab": {
          "base_uri": "https://localhost:8080/",
          "height": 235
        },
        "id": "BCgTO_hJ6X96",
        "outputId": "37219c61-129b-4924-afd1-9b6713581d69"
      },
      "execution_count": 28,
      "outputs": [
        {
          "output_type": "error",
          "ename": "NameError",
          "evalue": "ignored",
          "traceback": [
            "\u001b[0;31m---------------------------------------------------------------------------\u001b[0m",
            "\u001b[0;31mNameError\u001b[0m                                 Traceback (most recent call last)",
            "\u001b[0;32m<ipython-input-28-104c976627d0>\u001b[0m in \u001b[0;36m<cell line: 2>\u001b[0;34m()\u001b[0m\n\u001b[1;32m      1\u001b[0m \u001b[0mtokenizer\u001b[0m \u001b[0;34m=\u001b[0m \u001b[0mTokenizer\u001b[0m\u001b[0;34m(\u001b[0m\u001b[0mnum_words\u001b[0m\u001b[0;34m=\u001b[0m\u001b[0mMAX_NB_WORDS\u001b[0m\u001b[0;34m,\u001b[0m \u001b[0mlower\u001b[0m\u001b[0;34m=\u001b[0m\u001b[0;32mTrue\u001b[0m\u001b[0;34m,\u001b[0m \u001b[0mchar_level\u001b[0m\u001b[0;34m=\u001b[0m\u001b[0;32mFalse\u001b[0m\u001b[0;34m)\u001b[0m\u001b[0;34m\u001b[0m\u001b[0;34m\u001b[0m\u001b[0m\n\u001b[1;32m      2\u001b[0m \u001b[0;32mif\u001b[0m \u001b[0mUSE_TRAIN_TEST_SPLIT\u001b[0m\u001b[0;34m:\u001b[0m\u001b[0;34m\u001b[0m\u001b[0;34m\u001b[0m\u001b[0m\n\u001b[0;32m----> 3\u001b[0;31m     \u001b[0mtokenizer\u001b[0m\u001b[0;34m.\u001b[0m\u001b[0mfit_on_texts\u001b[0m\u001b[0;34m(\u001b[0m\u001b[0mprocessed_docs_train\u001b[0m \u001b[0;34m+\u001b[0m \u001b[0mprocessed_docs_test\u001b[0m\u001b[0;34m)\u001b[0m\u001b[0;34m\u001b[0m\u001b[0;34m\u001b[0m\u001b[0m\n\u001b[0m\u001b[1;32m      4\u001b[0m     \u001b[0mword_seq_test\u001b[0m \u001b[0;34m=\u001b[0m \u001b[0mtokenizer\u001b[0m\u001b[0;34m.\u001b[0m\u001b[0mtexts_to_sequences\u001b[0m\u001b[0;34m(\u001b[0m\u001b[0mprocessed_docs_test\u001b[0m\u001b[0;34m)\u001b[0m\u001b[0;34m\u001b[0m\u001b[0;34m\u001b[0m\u001b[0m\n\u001b[1;32m      5\u001b[0m \u001b[0;32melse\u001b[0m\u001b[0;34m:\u001b[0m\u001b[0;34m\u001b[0m\u001b[0;34m\u001b[0m\u001b[0m\n",
            "\u001b[0;31mNameError\u001b[0m: name 'processed_docs_train' is not defined"
          ]
        }
      ]
    },
    {
      "cell_type": "code",
      "source": [
        "tokenizer.word_index[\"привет\"]"
      ],
      "metadata": {
        "id": "83HiLA84xafv"
      },
      "execution_count": null,
      "outputs": []
    },
    {
      "cell_type": "code",
      "source": [
        "word_seq_train = pad_sequences(word_seq_train, maxlen=max_seq_len)\n",
        "if USE_TRAIN_TEST_SPLIT:\n",
        "    word_seq_test = pad_sequences(word_seq_test, maxlen=max_seq_len)"
      ],
      "metadata": {
        "id": "pbn3b2by6xjr"
      },
      "execution_count": null,
      "outputs": []
    },
    {
      "cell_type": "code",
      "source": [
        "print('preparing embedding matrix...')\n",
        "words_not_found = []\n",
        "nb_words = min(MAX_NB_WORDS, len(word_index) + 1)\n",
        "embedding_matrix = np.zeros((nb_words, embed_dim))\n",
        "for word, i in word_index.items():\n",
        "    if i >= nb_words:\n",
        "        continue\n",
        "    embedding_vector = embeddings_index.get(word)\n",
        "    if (embedding_vector is not None) and len(embedding_vector) > 0:\n",
        "        embedding_matrix[i] = embedding_vector\n",
        "    else:\n",
        "        words_not_found.append(word)\n",
        "print('number of null word embeddings: %d' % np.sum(np.sum(embedding_matrix, axis=1) == 0))"
      ],
      "metadata": {
        "id": "fPepmXnQ7XXn"
      },
      "execution_count": null,
      "outputs": []
    },
    {
      "cell_type": "code",
      "source": [
        "print(\"sample words not found: \", np.random.choice(words_not_found, 10))"
      ],
      "metadata": {
        "id": "W4ZUCM4Z7emw"
      },
      "execution_count": null,
      "outputs": []
    },
    {
      "cell_type": "markdown",
      "source": [
        "## CNN Learning"
      ],
      "metadata": {
        "id": "47CaZI494bfI"
      }
    },
    {
      "cell_type": "code",
      "source": [
        "def f1(y_true, y_pred):\n",
        "    def recall(y_true, y_pred):\n",
        "        \"\"\"Recall metric.\n",
        "        Only computes a batch-wise average of recall.\n",
        "        Computes the recall, a metric for multi-label classification of\n",
        "        how many relevant items are selected.\n",
        "        \"\"\"\n",
        "        true_positives = K.sum(K.round(K.clip(y_true * y_pred, 0, 1)))\n",
        "        possible_positives = K.sum(K.round(K.clip(y_true, 0, 1)))\n",
        "        recall = true_positives / (possible_positives + K.epsilon())\n",
        "        return recall\n",
        "    def precision(y_true, y_pred):\n",
        "        \"\"\"Precision metric.\n",
        "        Only computes a batch-wise average of precision.\n",
        "        Computes the precision, a metric for multi-label classification of\n",
        "        how many selected items are relevant.\n",
        "        \"\"\"\n",
        "        true_positives = K.sum(K.round(K.clip(y_true * y_pred, 0, 1)))\n",
        "        predicted_positives = K.sum(K.round(K.clip(y_pred, 0, 1)))\n",
        "        precision = true_positives / (predicted_positives + K.epsilon())\n",
        "        return precision\n",
        "    precision = precision(y_true, y_pred)\n",
        "    recall = recall(y_true, y_pred)\n",
        "    return 2*((precision*recall)/(precision+recall+K.epsilon()))"
      ],
      "metadata": {
        "id": "jbQI7ZGry6IW"
      },
      "execution_count": null,
      "outputs": []
    },
    {
      "cell_type": "code",
      "source": [
        "model = Sequential()\n",
        "model.add(Embedding(nb_words, embed_dim,\n",
        "          weights=[embedding_matrix], input_length=max_seq_len, trainable=False))\n",
        "model.add(Conv1D(num_filters, 7, activation='relu', padding='same'))\n",
        "model.add(MaxPooling1D(2))\n",
        "model.add(Conv1D(num_filters, 7, activation='relu', padding='same'))\n",
        "model.add(GlobalMaxPooling1D())\n",
        "model.add(Dropout(0.5))\n",
        "model.add(Dense(32, activation='relu', kernel_regularizer=regularizers.l2(weight_decay)))\n",
        "model.add(Dense(num_classes, activation='sigmoid'))  # multi-label (k-hot encoding)\n",
        "\n",
        "adam = optimizers.Adam(lr=0.001, beta_1=0.9, beta_2=0.999, epsilon=1e-08, decay=0.0)\n",
        "model.compile(loss='binary_crossentropy', optimizer=adam, metrics=[f1])\n",
        "model.summary()"
      ],
      "metadata": {
        "id": "4WTbHChk7k7e"
      },
      "execution_count": null,
      "outputs": []
    },
    {
      "cell_type": "code",
      "source": [
        "hist = model.fit(\n",
        "    word_seq_train,\n",
        "    np.array(y_train),\n",
        "    batch_size=batch_size,\n",
        "    epochs=num_epochs,\n",
        "    shuffle=True,\n",
        "    validation_split=0.1,\n",
        "    verbose=2\n",
        ")"
      ],
      "metadata": {
        "id": "-0YpabQ18xrf"
      },
      "execution_count": null,
      "outputs": []
    },
    {
      "cell_type": "markdown",
      "source": [
        "## RNN Learning"
      ],
      "metadata": {
        "id": "t30haVh24q__"
      }
    },
    {
      "cell_type": "code",
      "source": [
        "def f1(y_true, y_pred):\n",
        "    def recall(y_true, y_pred):\n",
        "        \"\"\"Recall metric.\n",
        "        Only computes a batch-wise average of recall.\n",
        "        Computes the recall, a metric for multi-label classification of\n",
        "        how many relevant items are selected.\n",
        "        \"\"\"\n",
        "        true_positives = K.sum(K.round(K.clip(y_true * y_pred, 0, 1)))\n",
        "        possible_positives = K.sum(K.round(K.clip(y_true, 0, 1)))\n",
        "        recall = true_positives / (possible_positives + K.epsilon())\n",
        "        return recall\n",
        "    def precision(y_true, y_pred):\n",
        "        \"\"\"Precision metric.\n",
        "        Only computes a batch-wise average of precision.\n",
        "        Computes the precision, a metric for multi-label classification of\n",
        "        how many selected items are relevant.\n",
        "        \"\"\"\n",
        "        true_positives = K.sum(K.round(K.clip(y_true * y_pred, 0, 1)))\n",
        "        predicted_positives = K.sum(K.round(K.clip(y_pred, 0, 1)))\n",
        "        precision = true_positives / (predicted_positives + K.epsilon())\n",
        "        return precision\n",
        "    precision = precision(y_true, y_pred)\n",
        "    recall = recall(y_true, y_pred)\n",
        "    return 2*((precision*recall)/(precision+recall+K.epsilon()))"
      ],
      "metadata": {
        "id": "QwbBGhDTwZZR"
      },
      "execution_count": null,
      "outputs": []
    },
    {
      "cell_type": "code",
      "source": [
        "model = Sequential()\n",
        "model.add(Embedding(nb_words, embed_dim,\n",
        "          weights=[embedding_matrix], input_length=max_seq_len, trainable=False))\n",
        "model.add(Bidirectional(LSTM(50)))\n",
        "model.add(Dense(num_classes, activation='sigmoid'))\n",
        "\n",
        "adam = optimizers.Adam(lr=0.001, beta_1=0.9, beta_2=0.999, epsilon=1e-08, decay=0.0)\n",
        "model.compile(loss='binary_crossentropy', optimizer=adam, metrics=[f1])\n",
        "model.summary()"
      ],
      "metadata": {
        "id": "22W0Pxly5Eo5"
      },
      "execution_count": null,
      "outputs": []
    },
    {
      "cell_type": "code",
      "source": [
        "hist = model.fit(\n",
        "    word_seq_train,\n",
        "    np.array(y_train),\n",
        "    batch_size=batch_size,\n",
        "    epochs=num_epochs,\n",
        "    shuffle=True,\n",
        "    validation_split=0.1,\n",
        "    verbose=2\n",
        ")"
      ],
      "metadata": {
        "id": "Q-B7XOBm5Eo6"
      },
      "execution_count": null,
      "outputs": []
    },
    {
      "cell_type": "markdown",
      "source": [
        "## Test"
      ],
      "metadata": {
        "id": "8m4uBexM42md"
      }
    },
    {
      "cell_type": "code",
      "source": [
        "y_test = []\n",
        "for _, c1, c2, c3, c4, *_ in test_df.itertuples(index=False, name=None):\n",
        "    y_test.append([c1, c2, c3, c4, int(not (c1 or c2 or c3 or c4))])"
      ],
      "metadata": {
        "id": "wreHFesBe2ru"
      },
      "execution_count": null,
      "outputs": []
    },
    {
      "cell_type": "code",
      "source": [
        "# CNN\n",
        "model.evaluate(word_seq_test, np.array(y_test))"
      ],
      "metadata": {
        "id": "OJ72cludefZu"
      },
      "execution_count": null,
      "outputs": []
    },
    {
      "cell_type": "code",
      "source": [
        "# CNN CE FREQ >= 5\n",
        "model.evaluate(word_seq_test, np.array(y_test))"
      ],
      "metadata": {
        "id": "Kfs8sPkWAzA1"
      },
      "execution_count": null,
      "outputs": []
    },
    {
      "cell_type": "code",
      "source": [
        "# RNN\n",
        "model.evaluate(word_seq_test, np.array(y_test))"
      ],
      "metadata": {
        "id": "z_lwML598ua6"
      },
      "execution_count": null,
      "outputs": []
    },
    {
      "cell_type": "code",
      "source": [
        "# RNN CE\n",
        "model.evaluate(word_seq_test, np.array(y_test))"
      ],
      "metadata": {
        "id": "Ud6K0wz_s0Tx"
      },
      "execution_count": null,
      "outputs": []
    },
    {
      "cell_type": "markdown",
      "source": [
        "## Result Visualization"
      ],
      "metadata": {
        "id": "hWZIxEL45GU8"
      }
    },
    {
      "cell_type": "code",
      "source": [
        "# CNN\n",
        "ax = plt.subplot()\n",
        "plt.plot(hist.history['accuracy'], lw=2.0, color='r', label='accuracy')\n",
        "plt.title('CNN sentiment')\n",
        "plt.xlabel('Epochs')\n",
        "plt.ylabel('Cross-Entropy Loss')\n",
        "plt.legend(loc='upper right')\n",
        "\n",
        "ax.set_ylim(bottom=0)\n",
        "\n",
        "plt.show()"
      ],
      "metadata": {
        "id": "2FtKT_W9Z099"
      },
      "execution_count": null,
      "outputs": []
    },
    {
      "cell_type": "code",
      "source": [
        "# RNN\n",
        "ax = plt.subplot()\n",
        "plt.plot(hist.history['accuracy'], lw=2.0, color='r', label='accuracy')\n",
        "plt.title('RNN sentiment')\n",
        "plt.xlabel('Epochs')\n",
        "plt.ylabel('Cross-Entropy Loss')\n",
        "plt.legend(loc='upper right')\n",
        "\n",
        "ax.set_ylim(bottom=0)\n",
        "\n",
        "plt.show()"
      ],
      "metadata": {
        "colab": {
          "base_uri": "https://localhost:8080/",
          "height": 653
        },
        "id": "VS_5XUMs87eY",
        "outputId": "992f8719-828a-4d1c-d148-33ef06e3cdf0"
      },
      "execution_count": 29,
      "outputs": [
        {
          "output_type": "error",
          "ename": "NameError",
          "evalue": "ignored",
          "traceback": [
            "\u001b[0;31m---------------------------------------------------------------------------\u001b[0m",
            "\u001b[0;31mNameError\u001b[0m                                 Traceback (most recent call last)",
            "\u001b[0;32m<ipython-input-29-91b1d60a9e54>\u001b[0m in \u001b[0;36m<cell line: 3>\u001b[0;34m()\u001b[0m\n\u001b[1;32m      1\u001b[0m \u001b[0;31m# RNN\u001b[0m\u001b[0;34m\u001b[0m\u001b[0;34m\u001b[0m\u001b[0m\n\u001b[1;32m      2\u001b[0m \u001b[0max\u001b[0m \u001b[0;34m=\u001b[0m \u001b[0mplt\u001b[0m\u001b[0;34m.\u001b[0m\u001b[0msubplot\u001b[0m\u001b[0;34m(\u001b[0m\u001b[0;34m)\u001b[0m\u001b[0;34m\u001b[0m\u001b[0;34m\u001b[0m\u001b[0m\n\u001b[0;32m----> 3\u001b[0;31m \u001b[0mplt\u001b[0m\u001b[0;34m.\u001b[0m\u001b[0mplot\u001b[0m\u001b[0;34m(\u001b[0m\u001b[0mhist\u001b[0m\u001b[0;34m.\u001b[0m\u001b[0mhistory\u001b[0m\u001b[0;34m[\u001b[0m\u001b[0;34m'accuracy'\u001b[0m\u001b[0;34m]\u001b[0m\u001b[0;34m,\u001b[0m \u001b[0mlw\u001b[0m\u001b[0;34m=\u001b[0m\u001b[0;36m2.0\u001b[0m\u001b[0;34m,\u001b[0m \u001b[0mcolor\u001b[0m\u001b[0;34m=\u001b[0m\u001b[0;34m'r'\u001b[0m\u001b[0;34m,\u001b[0m \u001b[0mlabel\u001b[0m\u001b[0;34m=\u001b[0m\u001b[0;34m'accuracy'\u001b[0m\u001b[0;34m)\u001b[0m\u001b[0;34m\u001b[0m\u001b[0;34m\u001b[0m\u001b[0m\n\u001b[0m\u001b[1;32m      4\u001b[0m \u001b[0mplt\u001b[0m\u001b[0;34m.\u001b[0m\u001b[0mtitle\u001b[0m\u001b[0;34m(\u001b[0m\u001b[0;34m'RNN sentiment'\u001b[0m\u001b[0;34m)\u001b[0m\u001b[0;34m\u001b[0m\u001b[0;34m\u001b[0m\u001b[0m\n\u001b[1;32m      5\u001b[0m \u001b[0mplt\u001b[0m\u001b[0;34m.\u001b[0m\u001b[0mxlabel\u001b[0m\u001b[0;34m(\u001b[0m\u001b[0;34m'Epochs'\u001b[0m\u001b[0;34m)\u001b[0m\u001b[0;34m\u001b[0m\u001b[0;34m\u001b[0m\u001b[0m\n",
            "\u001b[0;31mNameError\u001b[0m: name 'hist' is not defined"
          ]
        },
        {
          "output_type": "display_data",
          "data": {
            "text/plain": [
              "<Figure size 640x480 with 1 Axes>"
            ],
            "image/png": "[encoded data removed]"
          },
          "metadata": {}
        }
      ]
    },
    {
      "cell_type": "markdown",
      "source": [
        "## Model Save"
      ],
      "metadata": {
        "id": "G8dL26Lm5J1z"
      }
    },
    {
      "cell_type": "code",
      "source": [
        "model.save(data_path / \"pulse_model\")"
      ],
      "metadata": {
        "id": "TQ3UN-mnk1rL"
      },
      "execution_count": null,
      "outputs": []
    },
    {
      "cell_type": "code",
      "source": [
        "model.save(data_path / \"ce_freq5_pulse_model\")"
      ],
      "metadata": {
        "id": "2j05HnqmBYi1"
      },
      "execution_count": null,
      "outputs": []
    },
    {
      "cell_type": "code",
      "source": [
        "model.save(data_path / \"rec_pulse_model\")"
      ],
      "metadata": {
        "id": "66GKQ-Uo9ByA"
      },
      "execution_count": null,
      "outputs": []
    },
    {
      "cell_type": "code",
      "source": [
        "with open(data_path / \"keras_tokenizer_freq>=5.pickle\", \"wb\") as f:\n",
        "    pickle.dump(tokenizer, f)"
      ],
      "metadata": {
        "id": "u_Z-rYUhyVs2"
      },
      "execution_count": null,
      "outputs": []
    },
    {
      "cell_type": "markdown",
      "source": [
        "# Catboost + TF-idf"
      ],
      "metadata": {
        "id": "AL92ESRCC1Hz"
      }
    },
    {
      "cell_type": "code",
      "source": [
        "from sklearn.feature_extraction.text import TfidfVectorizer\n",
        "from sklearn.linear_model import LogisticRegression\n",
        "from sklearn.multioutput import MultiOutputClassifier\n",
        "from sklearn.model_selection import train_test_split\n",
        "from sklearn.metrics import f1_score, roc_auc_score"
      ],
      "metadata": {
        "id": "54VAsaC_C3ns"
      },
      "execution_count": null,
      "outputs": []
    },
    {
      "cell_type": "code",
      "source": [
        "vectorizer = TfidfVectorizer(lowercase=True, tokenizer=None, preprocessor=None, min_df=5)\n",
        "x = vectorizer.fit_transform(df.post_txt)\n",
        "\n",
        "y_cols = ['is_manipulation', 'is_profanity', 'is_advertisement', 'is_begging']\n",
        "y = df[y_cols]"
      ],
      "metadata": {
        "id": "5h1PSzP3C7LS"
      },
      "execution_count": null,
      "outputs": []
    },
    {
      "cell_type": "code",
      "source": [
        "train_x, test_x, train_y, test_y = train_test_split(x, y, test_size=0.3, random_state=42)"
      ],
      "metadata": {
        "id": "MtEdzLteC9wp"
      },
      "execution_count": null,
      "outputs": []
    },
    {
      "cell_type": "code",
      "source": [
        "!pip install catboost"
      ],
      "metadata": {
        "id": "ioct7LkXDANq"
      },
      "execution_count": null,
      "outputs": []
    },
    {
      "cell_type": "code",
      "source": [
        "from catboost import CatBoostClassifier"
      ],
      "metadata": {
        "id": "p5MnQsQsDJ-6"
      },
      "execution_count": null,
      "outputs": []
    },
    {
      "cell_type": "code",
      "source": [
        "classifier = CatBoostClassifier(loss_function='MultiLogloss')"
      ],
      "metadata": {
        "id": "6rlwvR1ED1hg"
      },
      "execution_count": null,
      "outputs": []
    },
    {
      "cell_type": "code",
      "source": [
        "classifier.fit(\n",
        "    train_x,\n",
        "    train_y,\n",
        "    eval_set=(test_x, test_y),\n",
        "    plot=True,\n",
        ")"
      ],
      "metadata": {
        "id": "__znxodyEKHJ"
      },
      "execution_count": null,
      "outputs": []
    },
    {
      "cell_type": "markdown",
      "source": [
        "# Model Interface"
      ],
      "metadata": {
        "id": "bUI3tBZX5iMw"
      }
    },
    {
      "cell_type": "code",
      "source": [
        "from typing import Optional, List, Set, Tuple, Union\n",
        "from keras.preprocessing.text import Tokenizer\n",
        "from nltk.tokenize.regexp import RegexpTokenizer\n",
        "from keras.utils import pad_sequences\n",
        "from keras.engine.sequential import Sequential\n",
        "import pickle\n",
        "import nltk\n",
        "from nltk.corpus import stopwords\n",
        "from keras.models import load_model\n",
        "from dataclasses import dataclass\n",
        "import numpy as np\n",
        "\n",
        "\n",
        "STOP_WORDS: Optional[Set[str]] = None\n",
        "MAX_WORD_COUNT = 5\n",
        "LABELS = ('manipulation', 'profanity', 'advertisement', 'begging', 'normal')\n",
        "\n",
        "\n",
        "class ModelNotLoadException(Exception):\n",
        "    def __init__(self):\n",
        "        super().__init__(\"Model not load\")\n",
        "\n",
        "\n",
        "class TokenizerNotLoadException(Exception):\n",
        "    def __init__(self):\n",
        "        super().__init__(\"Tokenizer not load\")\n",
        "\n",
        "\n",
        "def init_stopwords_nltk():\n",
        "    global STOP_WORDS\n",
        "\n",
        "    nltk.download(\"stopwords\")\n",
        "    stop_words = set(stopwords.words('russian'))\n",
        "    stop_words.update(['.', ',', '\"', \"'\", ':', ';', '(', ')', '[', ']', '{', '}'])\n",
        "\n",
        "    STOP_WORDS = stop_words\n",
        "\n",
        "\n",
        "def preprocess_input(text: str, stop_words: Set[str]) -> List[str]:\n",
        "    processed_docs = []\n",
        "    tokens = RegexpTokenizer(r'\\w+').tokenize(text)\n",
        "    filtered = [word for word in tokens if word not in stop_words]\n",
        "    return filtered\n",
        "\n",
        "\n",
        "def vectorize_input(processed_docs: List[str], tokenizer: Tokenizer) -> List[List[int]]:\n",
        "    return pad_sequences(tokenizer.texts_to_sequences(processed_docs), maxlen=64)\n",
        "\n",
        "\n",
        "class PredictResult:\n",
        "    separate_result: List[Tuple[str, np.array]]\n",
        "    total_result: np.array\n",
        "    text: str\n",
        "    max_separates_len: int\n",
        "\n",
        "    def __init__(self, separate_result):\n",
        "        self.separate_result = separate_result\n",
        "        self.total_result = self.calculate_total_result(separate_result)\n",
        "        self.text = self.calculate_text(separate_result)\n",
        "        self.max_separates_len = max(map(lambda x: len(x[0]), separate_result))\n",
        "\n",
        "    @staticmethod\n",
        "    def calculate_total_result(separate_result) -> np.array:\n",
        "        funcs = (max, max, max, max, min)\n",
        "        return np.array([funcs[i]([x[1][i] for x in separate_result]) for i in range(5)])\n",
        "\n",
        "    @staticmethod\n",
        "    def calculate_text(separate_result):\n",
        "        return \" \".join(map(lambda x: x[0], separate_result))\n",
        "\n",
        "    def get_max_result(self):\n",
        "        return np.max(self.total_result)\n",
        "\n",
        "    def get_max_label(self):\n",
        "        return LABELS[np.argmax(self.total_result)]\n",
        "    \n",
        "    def __repr__(self):\n",
        "        return \"<Prediction for \\\"{:.20}...\\\": {} with probability {:%}>\".format(\n",
        "            self.text,\n",
        "            self.get_max_label(),\n",
        "            self.get_max_result()\n",
        "        )\n",
        "    \n",
        "    def __str__(self):\n",
        "        return repr(self)\n",
        "    \n",
        "    def get_scores(self):\n",
        "        return {label: score for label, score in zip(LABELS, self.total_result)}\n",
        "\n",
        "    def get_human_readable_separates(self) -> str:\n",
        "        format_str = '{text:^{max_sep_len}} | {_class:^13} | {prob}'\n",
        "        header = format_str.format(\n",
        "            text=\"text\",\n",
        "            max_sep_len=self.max_separates_len,\n",
        "            _class=\"class\",\n",
        "            prob=\"prob, %\"\n",
        "        )\n",
        "        lines = [format_str.format(\n",
        "            text=text,\n",
        "            _class=LABELS[np.argmax(res)],\n",
        "            prob=np.max(res) * 100,\n",
        "            max_sep_len=self.max_separates_len\n",
        "        ) for text, res in self.separate_result]\n",
        "        return \"\\n\".join([header] + lines)\n",
        "\n",
        "\n",
        "class ClassifierModule:\n",
        "    _model: Optional[Sequential] = None\n",
        "    _tokenizer: Optional[Tokenizer]\n",
        "\n",
        "    def __init__(self, path_to_model: Optional[str], path_to_tokenizer: Optional[str], init_stopwords=True):\n",
        "        if path_to_model is not None:\n",
        "            self.load_model(path_to_model)\n",
        "        if path_to_tokenizer is not None:\n",
        "            self.load_tokenizer(path_to_tokenizer)\n",
        "        if init_stopwords:\n",
        "            init_stopwords_nltk()\n",
        "    \n",
        "    def load_model(self, path_to_model: str, raise_exception: bool = False):\n",
        "        try:\n",
        "            self._model = load_model(path_to_model)\n",
        "        except Exception as e:\n",
        "            self._model = None\n",
        "            if raise_exception:\n",
        "                raise e\n",
        "    \n",
        "    def get_model(self, raise_exception: bool = False):\n",
        "        if self._model is None and raise_exception:\n",
        "            raise ModelNotLoadException\n",
        "        return self._model\n",
        "    \n",
        "    def load_tokenizer(self, path_to_tokenizer: str, raise_exception: bool = False):\n",
        "        try:\n",
        "            with open(path_to_tokenizer, \"rb\") as f:\n",
        "                self._tokenizer = pickle.load(f)\n",
        "        except Exception as e:\n",
        "            self._tokenizer = None\n",
        "            if raise_exception:\n",
        "                raise e\n",
        "\n",
        "    def get_tokenizer(self, raise_exception: bool = False):\n",
        "        if self._tokenizer is None and raise_exception:\n",
        "            raise TokenizerNotLoadException\n",
        "        return self._tokenizer\n",
        "\n",
        "    def _predict(self, data: List[str], verbose: int | str = 0):\n",
        "        word_seq = vectorize_input(data, self.get_tokenizer(raise_exception=True))\n",
        "        return self.get_model(raise_exception=True).predict(word_seq, verbose=verbose)\n",
        "    \n",
        "    def predict_one(self, text: str, max_words: Optional[int] = MAX_WORD_COUNT, verbose: int | str = 0):\n",
        "        text = preprocess_input(text, STOP_WORDS)\n",
        "        lines = []\n",
        "        if max_words is not None:\n",
        "            for i in range(max_words, len(text) + 1, max_words):\n",
        "                lines.append(\" \".join(text[i - max_words:i]))\n",
        "            if len(text) % max_words > 0:\n",
        "                lines.append(\" \".join(text[-(len(text) % max_words):]))\n",
        "        else:\n",
        "            lines.append(\" \".join(text))\n",
        "        return PredictResult([(line, res) for line, res in zip(lines, self._predict(lines, verbose))])\n",
        "    \n",
        "    def predict_many(self, data: List[str], max_words: Optional[int] = MAX_WORD_COUNT, verbose: int | str = 0):\n",
        "        return list(map(lambda x: self.predict_one(x, max_words, verbose), data))"
      ],
      "metadata": {
        "id": "QkyBZyfblkJb"
      },
      "execution_count": null,
      "outputs": []
    },
    {
      "cell_type": "code",
      "source": [
        "model = ClassifierModule(\n",
        "    path_to_model=str(data_path / \"pulse_model\"),\n",
        "    path_to_tokenizer=str(data_path / \"keras_tokenizer.pickle\"),\n",
        "    # init_stopwords=False\n",
        ")"
      ],
      "metadata": {
        "id": "TYCjZiAF1pBC"
      },
      "execution_count": null,
      "outputs": []
    },
    {
      "cell_type": "code",
      "source": [
        "rec_model = ClassifierModule(\n",
        "    path_to_model=str(data_path / \"rec_pulse_model\"),\n",
        "    path_to_tokenizer=str(data_path / \"keras_tokenizer.pickle\"),\n",
        "    # init_stopwords=False\n",
        ")"
      ],
      "metadata": {
        "id": "YwtDpiqO9IdJ"
      },
      "execution_count": null,
      "outputs": []
    },
    {
      "cell_type": "code",
      "source": [
        "print(model.predict_one(\"В статье поговорим про построение автоматической системы модерации для обработки \"\n",
        "                    \"английского языка с использованием алгоритмов машинного обучения пошёл нах*й\", 5).get_human_readable_separates())"
      ],
      "metadata": {
        "id": "Wri68AZn2Q0H"
      },
      "execution_count": null,
      "outputs": []
    },
    {
      "cell_type": "code",
      "source": [
        "print(rec_model.predict_one(\"В статье поговорим про построение автоматической системы модерации для обработки \"\n",
        "                    \"английского языка с использованием алгоритмов машинного обучения пошёл нах*й\", None))"
      ],
      "metadata": {
        "id": "pGtQWkl_9Slr"
      },
      "execution_count": null,
      "outputs": []
    },
    {
      "cell_type": "code",
      "source": [
        "print(model.predict_one(\"Инвестируйте в нашу компанию, которая занимается разработкой\"\n",
        "                        \" и продажей мобильных приложений для управления финансами, и получите долю в прибыли\"))"
      ],
      "metadata": {
        "id": "hIw797vfvo_g"
      },
      "execution_count": null,
      "outputs": []
    },
    {
      "cell_type": "code",
      "source": [
        "print(rec_model.predict_one(\"Инвестируйте в нашу компанию, которая занимается разработкой\"\n",
        "                        \" и продажей мобильных приложений для управления финансами, и получите долю в прибыли\", None))"
      ],
      "metadata": {
        "id": "weYY89Fp-EYm"
      },
      "execution_count": null,
      "outputs": []
    },
    {
      "cell_type": "code",
      "source": [
        "print(model.predict_one(\"подпишитесь на мой канал плиз ссылка в профиле\"))"
      ],
      "metadata": {
        "id": "_6GYNQbdwuTF"
      },
      "execution_count": null,
      "outputs": []
    },
    {
      "cell_type": "code",
      "source": [
        "print(rec_model.predict_one(\"подпишитесь на мой канал плиз ссылка в профиле\", None))"
      ],
      "metadata": {
        "id": "7CLL5IkK-Hjc"
      },
      "execution_count": null,
      "outputs": []
    },
    {
      "cell_type": "code",
      "source": [
        "print(model.predict_one(\"Брат, это лучшая возможность в жизни, надо срочно вложиться!\"))"
      ],
      "metadata": {
        "id": "mId9hnNE1Iim"
      },
      "execution_count": null,
      "outputs": []
    },
    {
      "cell_type": "code",
      "source": [
        "print(rec_model.predict_one(\"{$UNKL} не продаем! держим строй!\t\", None))"
      ],
      "metadata": {
        "id": "eCxXBlbJ4il8"
      },
      "execution_count": null,
      "outputs": []
    }
  ]
}